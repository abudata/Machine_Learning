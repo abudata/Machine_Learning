{
 "cells": [
  {
   "cell_type": "markdown",
   "metadata": {},
   "source": [
    "# Naive Bayes Classifier"
   ]
  },
  {
   "cell_type": "markdown",
   "metadata": {},
   "source": [
    "Naive Bayes classifiers are quite similar to the linear models. However, they tend to be faster in training. The price paid for this efficiency is that naive Bayes models often provide generalization performance that is a bit worse than that of linear classifiers like *LogisticRegression* and *LinearSVC*. "
   ]
  },
  {
   "cell_type": "markdown",
   "metadata": {},
   "source": [
    "The reason that naive Bayes models are so efficient is that they learn parameters by looking at each feature individually and collect simple per class statistics from each feature. There are three kinds of naive Bayes classifiers in Scikit-lean. \n",
    "- GaussianNB\n",
    "- BernoulliNB\n",
    "- MultinomialNB\n",
    "\n",
    "Let's look at an example of BernoulliNB:\n",
    "The *BernoulliNB* classifier for this example counts how often every feature of each class is not zero."
   ]
  },
  {
   "cell_type": "code",
   "execution_count": 3,
   "metadata": {
    "collapsed": true
   },
   "outputs": [],
   "source": [
    "import numpy as np\n",
    "import pandas as pd\n",
    "X = np.array([[0, 1, 0, 1],\n",
    "              [1, 0, 1, 1],\n",
    "              [0, 0, 0, 1],\n",
    "              [1, 0, 1, 0]])\n",
    "\n",
    "y = np.array([0, 1, 0, 1])"
   ]
  },
  {
   "cell_type": "code",
   "execution_count": 11,
   "metadata": {
    "collapsed": false
   },
   "outputs": [
    {
     "name": "stdout",
     "output_type": "stream",
     "text": [
      "Freature counts:\n",
      "{0: array([0, 1, 0, 2]), 1: array([2, 0, 2, 1])}.\n"
     ]
    }
   ],
   "source": [
    "counts = {}\n",
    "for label in np.unique(y):a\n",
    "    # iterate over each class\n",
    "    # count(sum) entries of 1 per feature\n",
    "    counts[label] = X[y==label].sum(axis=0)\n",
    "\n",
    "print('Freature counts:\\n{}.'.format(counts))"
   ]
  }
 ],
 "metadata": {
  "anaconda-cloud": {},
  "kernelspec": {
   "display_name": "Python [conda env:py3k]",
   "language": "python",
   "name": "conda-env-py3k-py"
  },
  "language_info": {
   "codemirror_mode": {
    "name": "ipython",
    "version": 3
   },
   "file_extension": ".py",
   "mimetype": "text/x-python",
   "name": "python",
   "nbconvert_exporter": "python",
   "pygments_lexer": "ipython3",
   "version": "3.6.0"
  }
 },
 "nbformat": 4,
 "nbformat_minor": 1
}
