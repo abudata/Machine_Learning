{
 "cells": [
  {
   "cell_type": "markdown",
   "metadata": {},
   "source": [
    "# Linear Models"
   ]
  },
  {
   "cell_type": "markdown",
   "metadata": {},
   "source": [
    "Linear models make a prediction using a *linear function* of the input features."
   ]
  },
  {
   "cell_type": "markdown",
   "metadata": {},
   "source": [
    "### Linear models for regression"
   ]
  },
  {
   "cell_type": "markdown",
   "metadata": {},
   "source": [
    "The general formula for a linear model is as below:"
   ]
  },
  {
   "cell_type": "markdown",
   "metadata": {},
   "source": [
    "ŷ = w[0] * x[0] + w[1] * x[1] + ... + w[p] * x[p] + b"
   ]
  },
  {
   "cell_type": "markdown",
   "metadata": {},
   "source": [
    "The simplest and most classic linear method is *ordinary least square*. In this method, linear regression finds the parameters *w* and *b* that minimize the *mean squared error* between predictions and the true regression targets,*y*, on the training set."
   ]
  },
  {
   "cell_type": "markdown",
   "metadata": {},
   "source": [
    "The *mean squared error* is the sum of the squared differences between the predictions and the true values. Linear regression has no parameters, which is a benefit, but it also has no way to control model complexity. "
   ]
  },
  {
   "cell_type": "code",
   "execution_count": 39,
   "metadata": {
    "collapsed": true
   },
   "outputs": [],
   "source": [
    "import pandas as pd\n",
    "import mglearn\n",
    "import matplotlib \n",
    "import matplotlib.pylab as plt\n",
    "%matplotlib inline"
   ]
  },
  {
   "cell_type": "code",
   "execution_count": 6,
   "metadata": {
    "collapsed": false
   },
   "outputs": [],
   "source": [
    "from sklearn.model_selection import train_test_split\n",
    "from sklearn.linear_model import LinearRegression\n",
    "X, y = mglearn.datasets.make_wave(n_samples=60)\n",
    "X_train, X_test, y_train, y_test = train_test_split(X, y,random_state=111)"
   ]
  },
  {
   "cell_type": "code",
   "execution_count": 7,
   "metadata": {
    "collapsed": true
   },
   "outputs": [],
   "source": [
    "lr = LinearRegression().fit(X_train, y_train)"
   ]
  },
  {
   "cell_type": "markdown",
   "metadata": {},
   "source": [
    "The *slope* parametrs *(w)* which is also called *weights* or *coefficients* are stored in the *coef_* attribute, while the offset or *intercept (b)* is stored in the *intercept_* attribute."
   ]
  },
  {
   "cell_type": "code",
   "execution_count": 11,
   "metadata": {
    "collapsed": false
   },
   "outputs": [
    {
     "name": "stdout",
     "output_type": "stream",
     "text": [
      "lr.coef_: [ 0.44231285]\n",
      "lr.intercept_: -0.04949297304070671\n"
     ]
    }
   ],
   "source": [
    "print('lr.coef_: {}'.format(lr.coef_))\n",
    "print('lr.intercept_: {}'.format(lr.intercept_))"
   ]
  },
  {
   "cell_type": "markdown",
   "metadata": {},
   "source": [
    "There will be alwasy one single *intercetp_* attribute while the *coef_* attribute is a Numpy array with one entry per input feature. "
   ]
  },
  {
   "cell_type": "markdown",
   "metadata": {},
   "source": [
    "Looking at training set and test set performance:"
   ]
  },
  {
   "cell_type": "code",
   "execution_count": 13,
   "metadata": {
    "collapsed": false
   },
   "outputs": [
    {
     "name": "stdout",
     "output_type": "stream",
     "text": [
      "Training set score: 0.70\n",
      "Test set score: 0.56\n"
     ]
    }
   ],
   "source": [
    "print('Training set score: {:.2f}'.format(lr.score(X_train, y_train)))\n",
    "print('Test set score: {:.2f}'.format(lr.score(X_test, y_test)))"
   ]
  },
  {
   "cell_type": "markdown",
   "metadata": {},
   "source": [
    "An $R^2$ of around 0.56 is not very good, but we can see that the scores on the training\n",
    "and test sets are very close together. This means we are likely underfitting, not over‐\n",
    "fitting. **For this one-dimensional dataset, there is little danger of overfitting, as the\n",
    "model is very simple (or restricted). However, with higher-dimensional datasets\n",
    "(meaning datasets with a large number of features), linear models become more pow‐\n",
    "erful, and there is a higher chance of overfitting**."
   ]
  },
  {
   "cell_type": "markdown",
   "metadata": {},
   "source": [
    "Now, we look at how *LinearRegression* performs on a more complex dataset, like the Boston Housing dataset. This dataset has 506 samples and 105 features."
   ]
  },
  {
   "cell_type": "code",
   "execution_count": 20,
   "metadata": {
    "collapsed": true
   },
   "outputs": [],
   "source": [
    "X, y = mglearn.datasets.load_extended_boston()"
   ]
  },
  {
   "cell_type": "code",
   "execution_count": 26,
   "metadata": {
    "collapsed": false
   },
   "outputs": [],
   "source": [
    "X_train, X_test, y_train, y_test = train_test_split(X, y, random_state=112)"
   ]
  },
  {
   "cell_type": "code",
   "execution_count": 27,
   "metadata": {
    "collapsed": false
   },
   "outputs": [],
   "source": [
    "lr = LinearRegression().fit(X_train, y_train)"
   ]
  },
  {
   "cell_type": "code",
   "execution_count": 31,
   "metadata": {
    "collapsed": false
   },
   "outputs": [
    {
     "name": "stdout",
     "output_type": "stream",
     "text": [
      "Training score is: 0.93\n",
      "Test score is: 0.87\n"
     ]
    }
   ],
   "source": [
    "print('Training score is: {:.2f}'.format(lr.score(X_train, y_train)))\n",
    "print('Test score is: {:.2f}'.format(lr.score(X_test, y_test)))"
   ]
  },
  {
   "cell_type": "markdown",
   "metadata": {},
   "source": [
    "Another commonly used standard linear regression is ***Ridge regression*** which is explained as below:"
   ]
  },
  {
   "cell_type": "markdown",
   "metadata": {},
   "source": [
    "#### Ridge regression"
   ]
  },
  {
   "cell_type": "markdown",
   "metadata": {},
   "source": [
    "Reidge regression is also a linear model for regression. It uses the same formula as the ordinary least squre regression model. In the ridge regression, though, the coefficients *(w)* are chosen not only so that they predict well on the training data, but also to fit an additional constraint. We also want the magnitude of the coefficients to as small as possible, in other words, all entries of *w* should be as close to zero. This means each feature should have a little effect on the outcome as possible (having a small slope), while still predicting well. This constraint is an example of what is called regularization. Regularization means explicitly restricting a model to avoid overfitting. The particular kind used by ridge regression is known as L2 regularization."
   ]
  },
  {
   "cell_type": "code",
   "execution_count": 34,
   "metadata": {
    "collapsed": false
   },
   "outputs": [
    {
     "name": "stdout",
     "output_type": "stream",
     "text": [
      "Training set score is: 0.84\n",
      "Test set score is: 0.89\n"
     ]
    }
   ],
   "source": [
    "from sklearn.linear_model import Ridge\n",
    "ridge = Ridge().fit(X_train, y_train)\n",
    "print('Training set score is: {:.2f}'.format(ridge.score(X_train, y_train)))\n",
    "print('Test set score is: {:.2f}'.format(ridge.score(X_test, y_test)))"
   ]
  },
  {
   "cell_type": "markdown",
   "metadata": {},
   "source": [
    "As you can see, the training set score of Ridge is lower than for LinearRegression, while the test set score is higher. This is consistent with our expectation. With linear regression, we were overfitting our data. Ridge is a more restricted model, so we are less likely to overfit. A less complex model means worse performance on the training set, but better generalization. As we are only interested in generalization performance, we should choose the Ridge model over the LinearRegression model."
   ]
  },
  {
   "cell_type": "markdown",
   "metadata": {},
   "source": [
    "Another important parameter in Ridge regression is called *alpha* which is by default set to 1. However, if one wants to force the coeffecients to move more toward zero, which decreases training set performance, you can set *alpha* to higher values. \n",
    "We can see more in the example below:"
   ]
  },
  {
   "cell_type": "code",
   "execution_count": 36,
   "metadata": {
    "collapsed": false
   },
   "outputs": [
    {
     "name": "stdout",
     "output_type": "stream",
     "text": [
      "Training set score is: 0.74\n",
      "Test set score is: 0.79\n"
     ]
    }
   ],
   "source": [
    "ridge10 = Ridge(alpha=10).fit(X_train, y_train)\n",
    "print('Training set score is: {:.2f}'.format(ridge10.score(X_train, y_train)))\n",
    "print('Test set score is: {:.2f}'.format(ridge10.score(X_test, y_test)))"
   ]
  },
  {
   "cell_type": "code",
   "execution_count": 37,
   "metadata": {
    "collapsed": false
   },
   "outputs": [
    {
     "name": "stdout",
     "output_type": "stream",
     "text": [
      "Training set score is: 0.90\n",
      "Test set score is: 0.91\n"
     ]
    }
   ],
   "source": [
    "ridge01 = Ridge(alpha=0.1).fit(X_train, y_train)\n",
    "print('Training set score is: {:.2f}'.format(ridge01.score(X_train, y_train)))\n",
    "print('Test set score is: {:.2f}'.format(ridge01.score(X_test, y_test)))"
   ]
  },
  {
   "cell_type": "markdown",
   "metadata": {},
   "source": [
    "A higher alpha means a more restricted model, so we expect the entries of coef_ tohave smaller magnitude for a high value of alpha than for a low value of alpha ."
   ]
  },
  {
   "cell_type": "code",
   "execution_count": 47,
   "metadata": {
    "collapsed": false
   },
   "outputs": [
    {
     "data": {
      "text/plain": [
       "<matplotlib.legend.Legend at 0x7f54d61777f0>"
      ]
     },
     "execution_count": 47,
     "metadata": {},
     "output_type": "execute_result"
    },
    {
     "data": {
      "image/png": "[encoded data removed]",
      "text/plain": [
       "<matplotlib.figure.Figure at 0x7f54d61a9828>"
      ]
     },
     "metadata": {},
     "output_type": "display_data"
    }
   ],
   "source": [
    "plt.plot(ridge.coef_, 's', label='Ridge alpha=1')\n",
    "plt.plot(ridge10.coef_, '^', label='Ridge alpha=10')\n",
    "plt.plot(ridge01.coef_, 'v', label='Ridge alpha=0.1')\n",
    "\n",
    "plt.plot(lr.coef_, 'o', label='Linear regression')\n",
    "plt.xlabel('coefficient index')\n",
    "plt.ylabel('coefficient magnitued')\n",
    "plt.hlines(0, 0, len(lr.coef_))\n",
    "plt.ylim(-25, 25)\n",
    "plt.legend(loc=1)"
   ]
  },
  {
   "cell_type": "markdown",
   "metadata": {},
   "source": [
    "*Comparing coefficient magnitudes for ridge regression with different values of alpha and linear regression*"
   ]
  },
  {
   "cell_type": "markdown",
   "metadata": {},
   "source": [
    "Another way to understand the impact of regularization is to fix a value of *alpha* and vary the amount of training data. For the figure below, the Boston housing dataset is subsampled and evaluated using *LinearRegression* and *Rdige(alpha=1)* on subsets of increasing size."
   ]
  },
  {
   "cell_type": "code",
   "execution_count": 48,
   "metadata": {
    "collapsed": false
   },
   "outputs": [
    {
     "data": {
      "image/png": "[encoded data removed]",
      "text/plain": [
       "<matplotlib.figure.Figure at 0x7f54d6854160>"
      ]
     },
     "metadata": {},
     "output_type": "display_data"
    }
   ],
   "source": [
    "mglearn.plots.plot_ridge_n_samples()"
   ]
  },
  {
   "cell_type": "markdown",
   "metadata": {},
   "source": [
    "*Figure above shows Learing curves for ridge regression and linear regression on the Boston Housing dataset*"
   ]
  },
  {
   "cell_type": "markdown",
   "metadata": {},
   "source": [
    "As one would expect, the training score is higher than the test score for all dataset\n",
    "sizes, for both ridge and linear regression. Because ridge is regularized, the training\n",
    "score of ridge is lower than the training score for linear regression across the board.\n",
    "However, the test score for ridge is better, particularly for small subsets of the data.\n",
    "For less than 400 data points, linear regression is not able to learn anything. As more\n",
    "and more data becomes available to the model, both models improve, and linear\n",
    "regression catches up with ridge in the end. The lesson here is that with enough train‐\n",
    "ing data, regularization becomes less important, and given enough data, ridge and linear regression will have the same performance (the fact that this happens here\n",
    "when using the full dataset is just by chance)."
   ]
  },
  {
   "cell_type": "markdown",
   "metadata": {},
   "source": [
    "### Lasso"
   ]
  },
  {
   "cell_type": "markdown",
   "metadata": {},
   "source": [
    "An alternative to Ridge for regularizing linear regression is Lasso . As with ridge\n",
    "regression, using the lasso also restricts coefficients to be close to zero, but in a\n",
    "slightly different way, called L1 regularization. 8 The consequence of L1 regularization\n",
    "is that when using the lasso, some coefficients are exactly zero. This means some fea‐\n",
    "tures are entirely ignored by the model. This can be seen as a form of automatic fea‐\n",
    "ture selection. Having some coefficients be exactly zero often makes a model easier to\n",
    "interpret, and can reveal the most important features of your model."
   ]
  }
 ],
 "metadata": {
  "anaconda-cloud": {},
  "kernelspec": {
   "display_name": "Python [conda env:py3k]",
   "language": "python",
   "name": "conda-env-py3k-py"
  },
  "language_info": {
   "codemirror_mode": {
    "name": "ipython",
    "version": 3
   },
   "file_extension": ".py",
   "mimetype": "text/x-python",
   "name": "python",
   "nbconvert_exporter": "python",
   "pygments_lexer": "ipython3",
   "version": "3.6.0"
  }
 },
 "nbformat": 4,
 "nbformat_minor": 1
}
